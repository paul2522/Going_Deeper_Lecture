{
 "cells": [
  {
   "cell_type": "markdown",
   "metadata": {},
   "source": [
    "# Class Activation Map"
   ]
  },
  {
   "cell_type": "markdown",
   "metadata": {},
   "source": [
    "## 개요"
   ]
  },
  {
   "cell_type": "markdown",
   "metadata": {},
   "source": [
    "* XAI(Explainable Artificial Intelligence, 설명 가능한 인공지능) : 모델과 추론의 신뢰성에 대한 답을 찾는 분야"
   ]
  },
  {
   "cell_type": "markdown",
   "metadata": {},
   "source": [
    "### 실습 목표"
   ]
  },
  {
   "cell_type": "markdown",
   "metadata": {},
   "source": [
    "1. 분류 모델의 활성화 맵을 이해합니다.\n",
    "2. 다양한 활성화 맵을 구하는 방법을 알아갑니다.\n",
    "3. 약지도학습(weakly supervised learning)을 이해합니다."
   ]
  },
  {
   "cell_type": "markdown",
   "metadata": {},
   "source": [
    "### 학습 내용"
   ]
  },
  {
   "cell_type": "markdown",
   "metadata": {},
   "source": [
    "1. Explainable AI\n",
    "2. CAM: Class Activation Map\n",
    "3. Grad-CAM\n",
    "4. ACoL: Adversarial Complementary Learning\n",
    "5. 생각해 보기"
   ]
  },
  {
   "cell_type": "markdown",
   "metadata": {},
   "source": [
    "## Explainable AI"
   ]
  },
  {
   "cell_type": "markdown",
   "metadata": {},
   "source": [
    "* 모델이 잘못된 답변을 준다면 어떻게 개선할 수 있는지?\n",
    "* 모델이 잘 작동한다면 왜 이런 선택을 했는지?"
   ]
  },
  {
   "cell_type": "markdown",
   "metadata": {},
   "source": [
    "### Image Classification"
   ]
  },
  {
   "cell_type": "markdown",
   "metadata": {},
   "source": [
    "* local feature를 추출하기 위해 CNN으로 구성된 특성 추출용 backbone network가 있음.\n",
    "* backbone에서 추출된 feature map을 fully connected layer에 통과시켜 얻은 logit\n",
    "* logit을 softmax activation function에 통과시켜 class에 속할 확률으 구함."
   ]
  },
  {
   "cell_type": "markdown",
   "metadata": {},
   "source": [
    "* [관련설명](https://opentutorials.org/module/3653/22995)\n",
    "* logit 과 sigmoid는 서로 역함수.\n",
    "* 2개의 class를 대상으로 정의하던 logit을 K개의 class를 대상으로 일반화하면 softmax 함수가 유도됨.\n",
    "* softmax 함수에서 K를 2로 놓으면 sigmoid 함수로 환원.\n",
    "* sigmoid 함수를 K개의 클래스를 대상으로 일반화시 softmax 함수가 유도."
   ]
  },
  {
   "cell_type": "markdown",
   "metadata": {},
   "source": [
    "$$ t = logit(y) = ln(\\frac{y}{1-y}) $$\n",
    "$$ y = sigmoid(t) = \\frac{1}{1+exp(t)} $$"
   ]
  },
  {
   "cell_type": "markdown",
   "metadata": {},
   "source": [
    "## CAM: Class Activation Map"
   ]
  },
  {
   "cell_type": "markdown",
   "metadata": {},
   "source": [
    "* CAM : Class Activation Map\n",
    "* 모델이 어떤 곳을 보고 어떤 클래스임을 짐작하고 있는지 확인할 수 있는 지도"
   ]
  },
  {
   "cell_type": "markdown",
   "metadata": {},
   "source": [
    "### GAP(Global Average Pooling)"
   ]
  },
  {
   "cell_type": "markdown",
   "metadata": {},
   "source": []
  }
 ],
 "metadata": {
  "kernelspec": {
   "display_name": "Python 3.10.6 64-bit",
   "language": "python",
   "name": "python3"
  },
  "language_info": {
   "name": "python",
   "version": "3.10.6"
  },
  "orig_nbformat": 4,
  "vscode": {
   "interpreter": {
    "hash": "916dbcbb3f70747c44a77c7bcd40155683ae19c65e1c03b4aa3499c5328201f1"
   }
  }
 },
 "nbformat": 4,
 "nbformat_minor": 2
}
